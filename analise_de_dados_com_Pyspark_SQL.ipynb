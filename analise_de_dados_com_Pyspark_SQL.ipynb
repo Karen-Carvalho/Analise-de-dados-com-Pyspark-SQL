{
  "nbformat": 4,
  "nbformat_minor": 0,
  "metadata": {
    "colab": {
      "provenance": [],
      "authorship_tag": "ABX9TyOSEDituTh59+ksBRAYO7gV",
      "include_colab_link": true
    },
    "kernelspec": {
      "name": "python3",
      "display_name": "Python 3"
    },
    "language_info": {
      "name": "python"
    }
  },
  "cells": [
    {
      "cell_type": "markdown",
      "metadata": {
        "id": "view-in-github",
        "colab_type": "text"
      },
      "source": [
        "<a href=\"https://colab.research.google.com/github/Karen-Carvalho/Analise-de-dados-com-Pyspark-SQL/blob/main/analise_de_dados_com_Pyspark_SQL.ipynb\" target=\"_parent\"><img src=\"https://colab.research.google.com/assets/colab-badge.svg\" alt=\"Open In Colab\"/></a>"
      ]
    },
    {
      "cell_type": "markdown",
      "source": [
        "# Enunciado\n",
        "- Doenças ligadas ao coração afetam milhões de pessoas ao redor do mundo e, segundo a Organização Mundial da Saúde (OMS), são a segunda principal causa de morte da população mundial. Como cientista de dados, você foi contratado para criar um modelo preditivo que, a partir de dados de pacientes como idade, gênero, nível de glicose, se o paciente fuma ou não, vai prever se aquele paciente terá um derrame cerebral ou não. Você tem acesso a um arquivo que possui atributos de pacientes e um atributo “stroke” (derrame), que indica se aquele paciente sofreu um evento de derrame ou não.\n",
        "\n",
        "- O conjunto de dados stroke_data.csv está disponível em:\n",
        "• https://drive.google.com/file/d/163BGU_RzXR29UbVVkPpv8tYnUejlPBVr/view?usp=share_link.\n",
        "\n",
        "- Para uma descrição das colunas, veja a seção “Attribute information” em:\n",
        "\n",
        "• https://www.kaggle.com/fedesoriano/stroke-prediction-dataset.\n",
        "\n",
        "- As questões objetivas vão guiá-lo para a análise exploratória e para o modelo preditivo que você criará a partir dos dados."
      ],
      "metadata": {
        "id": "NOpJ0sLOltUh"
      }
    },
    {
      "cell_type": "markdown",
      "source": [
        "# instalação do Pyspark"
      ],
      "metadata": {
        "id": "n0VNoYW9AiA6"
      }
    },
    {
      "cell_type": "code",
      "execution_count": 1,
      "metadata": {
        "colab": {
          "base_uri": "https://localhost:8080/"
        },
        "id": "FPMzXKXmAYuI",
        "outputId": "d56cb586-606a-467b-bf0e-0e5dc139e466"
      },
      "outputs": [
        {
          "output_type": "stream",
          "name": "stdout",
          "text": [
            "Collecting pyspark\n",
            "  Downloading pyspark-3.5.0.tar.gz (316.9 MB)\n",
            "\u001b[2K     \u001b[90m━━━━━━━━━━━━━━━━━━━━━━━━━━━━━━━━━━━━━━━━\u001b[0m \u001b[32m316.9/316.9 MB\u001b[0m \u001b[31m3.9 MB/s\u001b[0m eta \u001b[36m0:00:00\u001b[0m\n",
            "\u001b[?25h  Preparing metadata (setup.py) ... \u001b[?25l\u001b[?25hdone\n",
            "Requirement already satisfied: py4j==0.10.9.7 in /usr/local/lib/python3.10/dist-packages (from pyspark) (0.10.9.7)\n",
            "Building wheels for collected packages: pyspark\n",
            "  Building wheel for pyspark (setup.py) ... \u001b[?25l\u001b[?25hdone\n",
            "  Created wheel for pyspark: filename=pyspark-3.5.0-py2.py3-none-any.whl size=317425345 sha256=857a46c1423ed5f6d546607b750ff9f0976dcf838e53d1b7c9e573da75f87d8d\n",
            "  Stored in directory: /root/.cache/pip/wheels/41/4e/10/c2cf2467f71c678cfc8a6b9ac9241e5e44a01940da8fbb17fc\n",
            "Successfully built pyspark\n",
            "Installing collected packages: pyspark\n",
            "Successfully installed pyspark-3.5.0\n"
          ]
        }
      ],
      "source": [
        "#instalando pyspark\n",
        "!pip install pyspark"
      ]
    },
    {
      "cell_type": "markdown",
      "source": [
        "# importando bibliotecas"
      ],
      "metadata": {
        "id": "qJIerGKEAqY7"
      }
    },
    {
      "cell_type": "code",
      "source": [
        "import os\n",
        "import sys\n",
        "\n",
        "os.environ['PYSPARK_PYTHON'] = sys.executable\n",
        "os.environ['PYSPARK_DRIVER_PYTHON'] = sys.executable"
      ],
      "metadata": {
        "id": "2tpsHxZXAzCA"
      },
      "execution_count": 2,
      "outputs": []
    },
    {
      "cell_type": "code",
      "source": [
        "from pyspark.sql.functions import *\n",
        "from pyspark.sql import SparkSession\n",
        "from pyspark.sql.types import *"
      ],
      "metadata": {
        "id": "l125ye9sA16h"
      },
      "execution_count": 3,
      "outputs": []
    },
    {
      "cell_type": "markdown",
      "source": [
        "# criar / iniciar sessao pyspark"
      ],
      "metadata": {
        "id": "5tJvAkvzA7Qt"
      }
    },
    {
      "cell_type": "code",
      "source": [
        "spark = (\n",
        "    SparkSession.builder\n",
        "    .master('local')\n",
        "    .appName('Pyspark01')\n",
        "    .getOrCreate()\n",
        "\n",
        ")"
      ],
      "metadata": {
        "id": "cwD31qpzA_rf"
      },
      "execution_count": 4,
      "outputs": []
    },
    {
      "cell_type": "markdown",
      "source": [
        "# Criar df / Ler arquivo"
      ],
      "metadata": {
        "id": "3U8PIooTBDnA"
      }
    },
    {
      "cell_type": "code",
      "source": [
        "df = spark.read.csv(\"/content/dados/stroke_data.csv\", inferSchema=True, header=True)"
      ],
      "metadata": {
        "id": "g5AgjiGdBI1K"
      },
      "execution_count": 5,
      "outputs": []
    },
    {
      "cell_type": "markdown",
      "source": [
        "# Visualizando os dados"
      ],
      "metadata": {
        "id": "IkEagN6tBHn0"
      }
    },
    {
      "cell_type": "code",
      "source": [
        "# visualizando dataframe\n",
        "df.show(10)"
      ],
      "metadata": {
        "colab": {
          "base_uri": "https://localhost:8080/"
        },
        "id": "Maca16hoCeKL",
        "outputId": "2d4e161a-699a-4791-f659-6ba52167aa14"
      },
      "execution_count": 6,
      "outputs": [
        {
          "output_type": "stream",
          "name": "stdout",
          "text": [
            "+---+------+----+------------+-------------+------------+-------------+--------------+-----------------+-----+---------------+------+\n",
            "|  0|gender| age|hypertension|heart_disease|ever_married|    work_type|Residence_type|avg_glucose_level|  bmi| smoking_status|stroke|\n",
            "+---+------+----+------------+-------------+------------+-------------+--------------+-----------------+-----+---------------+------+\n",
            "|  1|Female|18.0|           0|            0|          No|      Private|         Urban|            94.19|12.12|         smokes|     1|\n",
            "|  2|  Male|58.0|           1|            0|         Yes|      Private|         Rural|           154.24| 33.7|   never_smoked|     0|\n",
            "|  3|Female|36.0|           0|            0|         Yes|     Govt_job|         Urban|            72.63| 24.7|         smokes|     0|\n",
            "|  4|Female|62.0|           0|            0|         Yes|Self-employed|         Rural|            85.52| 31.2|formerly smoked|     0|\n",
            "|  5|Female|82.0|           0|            0|         Yes|      Private|         Rural|            59.32| 33.2|         smokes|     1|\n",
            "|  6|Female|82.0|           0|            0|          No|     Govt_job|         Urban|            234.5| 24.0|formerly smoked|     0|\n",
            "|  7|Female|33.0|           0|            0|         Yes|Self-employed|         Urban|           193.42| 29.9|         smokes|     0|\n",
            "|  8|Female|37.0|           0|            0|         Yes|      Private|         Rural|            156.7| 36.9|         smokes|     1|\n",
            "|  9|Female|41.0|           0|            0|         Yes|     Govt_job|         Rural|            64.06| 33.8|         smokes|     1|\n",
            "| 10|Female|70.0|           0|            0|         Yes|Self-employed|         Rural|            76.34| 24.4|formerly smoked|     1|\n",
            "+---+------+----+------------+-------------+------------+-------------+--------------+-----------------+-----+---------------+------+\n",
            "only showing top 10 rows\n",
            "\n"
          ]
        }
      ]
    },
    {
      "cell_type": "markdown",
      "source": [
        "# Estatística descritiva"
      ],
      "metadata": {
        "id": "W9vhntcrCpOE"
      }
    },
    {
      "cell_type": "code",
      "source": [
        "# visualizando as estatísticas descritivas do conjunto de dados\n",
        "df.describe().show()"
      ],
      "metadata": {
        "colab": {
          "base_uri": "https://localhost:8080/"
        },
        "id": "pEk7K6lhCrkz",
        "outputId": "6eddc5a0-585a-454a-9a68-ed7d2101dd0e"
      },
      "execution_count": 7,
      "outputs": [
        {
          "output_type": "stream",
          "name": "stdout",
          "text": [
            "+-------+------------------+------+------------------+-------------------+-------------------+------------+---------+--------------+------------------+------------------+---------------+-------------------+\n",
            "|summary|                 0|gender|               age|       hypertension|      heart_disease|ever_married|work_type|Residence_type| avg_glucose_level|               bmi| smoking_status|             stroke|\n",
            "+-------+------------------+------+------------------+-------------------+-------------------+------------+---------+--------------+------------------+------------------+---------------+-------------------+\n",
            "|  count|             67135| 67135|             67135|              67135|              67135|       67135|    67135|         67135|             67135|             67135|          67135|              67135|\n",
            "|   mean|           33568.0|  NULL| 51.95950845311693|0.16410218217025396|0.10142250688910405|        NULL|     NULL|          NULL|113.41439606762462| 29.16154047813857|           NULL|  0.600089372160572|\n",
            "| stddev|19380.349498052576|  NULL|23.413054156327913|0.37037102916366954| 0.3018896147748789|        NULL|     NULL|          NULL| 51.25881719094036|7.1020570070927205|           NULL|0.48988334555668295|\n",
            "|    min|                 1|Female|              0.08|                  0|                  0|          No| Govt_job|         Rural|              55.0|              10.1|formerly smoked|                  0|\n",
            "|    max|             67135| Other|              82.0|                  1|                  1|         Yes| children|         Urban|            291.05|              97.6|         smokes|                  1|\n",
            "+-------+------------------+------+------------------+-------------------+-------------------+------------+---------+--------------+------------------+------------------+---------------+-------------------+\n",
            "\n"
          ]
        }
      ]
    },
    {
      "cell_type": "markdown",
      "source": [
        "# Pergunta 1\n",
        "- Quantos registros existem no arquivo?"
      ],
      "metadata": {
        "id": "9h2WDyyFCyr4"
      }
    },
    {
      "cell_type": "code",
      "source": [
        "numero_registros = df.count()\n",
        "numero_registros"
      ],
      "metadata": {
        "colab": {
          "base_uri": "https://localhost:8080/"
        },
        "id": "8RCHSxtPC4A2",
        "outputId": "496089c0-71fa-41d4-f865-ad7c890d1c78"
      },
      "execution_count": 8,
      "outputs": [
        {
          "output_type": "execute_result",
          "data": {
            "text/plain": [
              "67135"
            ]
          },
          "metadata": {},
          "execution_count": 8
        }
      ]
    },
    {
      "cell_type": "markdown",
      "source": [
        "## Resposta: 67135"
      ],
      "metadata": {
        "id": "vbfDQJs6DC1d"
      }
    },
    {
      "cell_type": "markdown",
      "source": [
        "#Pergunta 2\n",
        "- Quantas colunas existem no arquivo? Quantas são numéricas? - Ao ler o arquivo com spark.read.csv, habilite inferSchema=True. Use a função printSchema() da API de Dataframes."
      ],
      "metadata": {
        "id": "QTD4EkslDI77"
      }
    },
    {
      "cell_type": "code",
      "source": [
        "# Determinar o número total de colunas\n",
        "num_total_colunas = len(df.columns)\n",
        "print(f\"Número total de colunas: {num_total_colunas}\")\n",
        "\n",
        "# Determinar o número de colunas numéricas\n",
        "num_colunas_numericas = len([coluna for coluna, tipo in df.dtypes if tipo.startswith('int') or tipo.startswith('double')])\n",
        "print(f\"Número de colunas numéricas: {num_colunas_numericas}\")"
      ],
      "metadata": {
        "colab": {
          "base_uri": "https://localhost:8080/"
        },
        "id": "Riy-1vx5DR1s",
        "outputId": "bcc8c95d-f56a-41ff-ba81-591a473aeaa2"
      },
      "execution_count": null,
      "outputs": [
        {
          "output_type": "stream",
          "name": "stdout",
          "text": [
            "Número total de colunas: 12\n",
            "Número de colunas numéricas: 7\n"
          ]
        }
      ]
    },
    {
      "cell_type": "code",
      "source": [
        "df.printSchema()"
      ],
      "metadata": {
        "colab": {
          "base_uri": "https://localhost:8080/"
        },
        "id": "ug6_FrosDfs6",
        "outputId": "7193badd-cde4-4af5-def0-e576d78a57ed"
      },
      "execution_count": 9,
      "outputs": [
        {
          "output_type": "stream",
          "name": "stdout",
          "text": [
            "root\n",
            " |-- 0: integer (nullable = true)\n",
            " |-- gender: string (nullable = true)\n",
            " |-- age: double (nullable = true)\n",
            " |-- hypertension: integer (nullable = true)\n",
            " |-- heart_disease: integer (nullable = true)\n",
            " |-- ever_married: string (nullable = true)\n",
            " |-- work_type: string (nullable = true)\n",
            " |-- Residence_type: string (nullable = true)\n",
            " |-- avg_glucose_level: double (nullable = true)\n",
            " |-- bmi: double (nullable = true)\n",
            " |-- smoking_status: string (nullable = true)\n",
            " |-- stroke: integer (nullable = true)\n",
            "\n"
          ]
        }
      ]
    },
    {
      "cell_type": "markdown",
      "source": [
        "## Resposta: 12 e 7 respecivamente"
      ],
      "metadata": {
        "id": "uwqiaDBJDZOO"
      }
    },
    {
      "cell_type": "markdown",
      "source": [
        "# Pergunta 3\n",
        "- No conjunto de dados, quantos pacientes sofreram e não sofreram derrame (stroke), respectivamente?"
      ],
      "metadata": {
        "id": "_kWhEVsWDmjb"
      }
    },
    {
      "cell_type": "code",
      "source": [
        "#Contando quantos sofreram derrame\n",
        "sofreram_derrame = df.filter(col(\"stroke\") == 1).count()\n",
        "print(f\"Sofreram Derrame: {sofreram_derrame}\")\n",
        "\n",
        "#Contando quantos não sofreram derrame\n",
        "nao_sofreram_derrame = df.filter(col(\"stroke\") == 0).count()\n",
        "print(f\"Não Sofreram Derrame: {nao_sofreram_derrame}\")"
      ],
      "metadata": {
        "colab": {
          "base_uri": "https://localhost:8080/"
        },
        "id": "XN__RxSKDwjX",
        "outputId": "4e8bec03-3aea-42bd-bceb-6490b2073f69"
      },
      "execution_count": 10,
      "outputs": [
        {
          "output_type": "stream",
          "name": "stdout",
          "text": [
            "Sofreram Derrame: 40287\n",
            "Não Sofreram Derrame: 26848\n"
          ]
        }
      ]
    },
    {
      "cell_type": "markdown",
      "source": [
        "## Resposta: Sofreram Derrame: 40287 e Não Sofreram Derrame: 26848"
      ],
      "metadata": {
        "id": "YwpSD8EZD2BM"
      }
    },
    {
      "cell_type": "markdown",
      "source": [
        "# Pergunta 4\n",
        "- A partir do dataframe, crie uma tabela temporária usando df.createOrReplaceTempView('table') e a seguir use spark.sql para escrever uma consulta SQL que obtenha quantos pacientes tiveram derrame por tipo de trabalho (work_type). Quantos pacientes sofreram derrame e trabalhavam respectivamente, no setor privado, de forma independente, no governo e quantas são crianças?"
      ],
      "metadata": {
        "id": "cA-L1hBsD8TH"
      }
    },
    {
      "cell_type": "code",
      "source": [
        "# Criar uma visualização temporária\n",
        "df.createOrReplaceTempView('pacientes')\n",
        "\n",
        "# Escrever uma consulta SQL para contar quantos pacientes tiveram derrame por tipo de trabalho\n",
        "consulta_sql = \"\"\"\n",
        "    SELECT work_type, COUNT(*) as total_derrame\n",
        "    FROM pacientes\n",
        "    WHERE stroke = 1\n",
        "    GROUP BY work_type\n",
        "\"\"\"\n",
        "\n",
        "# Executar a consulta SQL usando spark.sql\n",
        "resultado = spark.sql(consulta_sql)\n",
        "\n",
        "resultado.show()"
      ],
      "metadata": {
        "colab": {
          "base_uri": "https://localhost:8080/"
        },
        "id": "TqaYx8wBEI5P",
        "outputId": "974ff27a-a31e-4781-8f44-6ac62f80f772"
      },
      "execution_count": 11,
      "outputs": [
        {
          "output_type": "stream",
          "name": "stdout",
          "text": [
            "+-------------+-------------+\n",
            "|    work_type|total_derrame|\n",
            "+-------------+-------------+\n",
            "| Never_worked|           85|\n",
            "|Self-employed|        10807|\n",
            "|      Private|        23711|\n",
            "|     children|          520|\n",
            "|     Govt_job|         5164|\n",
            "+-------------+-------------+\n",
            "\n"
          ]
        }
      ]
    },
    {
      "cell_type": "markdown",
      "source": [
        "# Resposta:\n",
        "- Privado: 23711\n",
        "\n",
        "- Self-employed: 10807\n",
        "\n",
        "- Govt_job: 5164\n",
        "\n",
        "- children: 520"
      ],
      "metadata": {
        "id": "LYwSevR7EC_B"
      }
    },
    {
      "cell_type": "markdown",
      "source": [
        "# Pergunta 5\n",
        "- Escreva uma consulta com spark.sql para determinar a proporção, por gênero, de participantes do estudo. A maioria dos participantes é:"
      ],
      "metadata": {
        "id": "b6OayIh4EUgu"
      }
    },
    {
      "cell_type": "code",
      "source": [
        "# Criar uma visualização temporária\n",
        "df.createOrReplaceTempView('participantes')\n",
        "\n",
        "# Escrever uma consulta SQL para calcular a proporção por gênero\n",
        "consulta_sql = \"\"\"\n",
        "    SELECT gender, COUNT(*) as total_participantes,\n",
        "           ROUND(COUNT(*) / (SELECT COUNT(*) FROM participantes), 2) as proporcao\n",
        "    FROM participantes\n",
        "    GROUP BY gender\n",
        "\"\"\"\n",
        "\n",
        "# Executar a consulta SQL usando spark.sql\n",
        "resultado = spark.sql(consulta_sql)\n",
        "\n",
        "resultado.show()"
      ],
      "metadata": {
        "colab": {
          "base_uri": "https://localhost:8080/"
        },
        "id": "NK1hFJufEccy",
        "outputId": "bbf22aa3-7f15-4343-8ccf-20bbad8c8f29"
      },
      "execution_count": 12,
      "outputs": [
        {
          "output_type": "stream",
          "name": "stdout",
          "text": [
            "+------+-------------------+---------+\n",
            "|gender|total_participantes|proporcao|\n",
            "+------+-------------------+---------+\n",
            "|Female|              39530|     0.59|\n",
            "| Other|                 11|      0.0|\n",
            "|  Male|              27594|     0.41|\n",
            "+------+-------------------+---------+\n",
            "\n"
          ]
        }
      ]
    },
    {
      "cell_type": "markdown",
      "source": [
        "# Resposta: Feminina"
      ],
      "metadata": {
        "id": "xCHZ3S36EkcW"
      }
    },
    {
      "cell_type": "markdown",
      "source": [
        "# Pergunta 6\n",
        "- Escreva uma consulta com spark.sql para determinar quem tem mais probabilidade de sofrer derrame: hipertensos ou não-hipertensos. Você pode escrever uma consulta para cada grupo. A partir das probabilidades que você obteve, você conclui que:"
      ],
      "metadata": {
        "id": "34M-1_FsEm_v"
      }
    },
    {
      "cell_type": "code",
      "source": [
        "# Criar uma visualização temporária\n",
        "df.createOrReplaceTempView('pacientes')\n",
        "\n",
        "# Escrever uma consulta SQL para calcular a probabilidade de sofrer derrame entre hipertensos\n",
        "consulta_hipertensos = \"\"\"\n",
        "    SELECT CASE WHEN hypertension = 1 THEN 'Hipertensos' ELSE 'Não-Hipertensos' END AS grupo,\n",
        "           COUNT(*) as total_pessoas,\n",
        "           SUM(CASE WHEN stroke = 1 THEN 1 ELSE 0 END) as total_derrame,\n",
        "           ROUND(SUM(CASE WHEN stroke = 1 THEN 1 ELSE 0 END) / COUNT(*), 4) as probabilidade\n",
        "    FROM pacientes\n",
        "    GROUP BY hypertension\n",
        "\"\"\"\n",
        "\n",
        "# Executar a consulta SQL para hipertensos usando spark.sql\n",
        "resultado_hipertensos = spark.sql(consulta_hipertensos)\n",
        "\n",
        "resultado_hipertensos.show()"
      ],
      "metadata": {
        "colab": {
          "base_uri": "https://localhost:8080/"
        },
        "id": "kKZFA-dhExl0",
        "outputId": "97d95028-02a3-40da-f6a8-ce895e7f1197"
      },
      "execution_count": 13,
      "outputs": [
        {
          "output_type": "stream",
          "name": "stdout",
          "text": [
            "+---------------+-------------+-------------+-------------+\n",
            "|          grupo|total_pessoas|total_derrame|probabilidade|\n",
            "+---------------+-------------+-------------+-------------+\n",
            "|    Hipertensos|        11017|         8817|       0.8003|\n",
            "|Não-Hipertensos|        56118|        31470|       0.5608|\n",
            "+---------------+-------------+-------------+-------------+\n",
            "\n"
          ]
        }
      ]
    },
    {
      "cell_type": "markdown",
      "source": [
        "# Resposta: A hipertensão, neste conjunto de dados, aumenta a probabilidade de derrame."
      ],
      "metadata": {
        "id": "TmJISxh_E2iG"
      }
    },
    {
      "cell_type": "markdown",
      "source": [
        "# Pergunta 7\n",
        "- Escreva uma consulta com spark.sql que determine o número de pessoas que sofreram derrame por idade. Com qual idade o maior número de pessoas do conjunto de dados sofreu derrame?"
      ],
      "metadata": {
        "id": "njWHkIWhE-Nr"
      }
    },
    {
      "cell_type": "code",
      "source": [
        "# Criar uma visualização temporária\n",
        "df.createOrReplaceTempView('pacientes')\n",
        "\n",
        "# Escrever uma consulta SQL para determinar o número de pessoas que sofreram derrame por idade\n",
        "consulta_derrame_por_idade = \"\"\"\n",
        "    SELECT age, COUNT(*) as total_pessoas_com_derrame\n",
        "    FROM pacientes\n",
        "    WHERE stroke = 1\n",
        "    GROUP BY age\n",
        "    ORDER BY total_pessoas_com_derrame DESC\n",
        "\"\"\"\n",
        "\n",
        "# Executar a consulta SQL usando spark.sql\n",
        "resultado_derrame_por_idade = spark.sql(consulta_derrame_por_idade)\n",
        "\n",
        "# Encontrar a idade com o maior número de pessoas que sofreram derrame\n",
        "idade_maior_numero_derrame = resultado_derrame_por_idade.first()[\"age\"]\n",
        "\n",
        "# Imprimir o resultado\n",
        "print(\"Número de pessoas que sofreram derrame por idade:\")\n",
        "resultado_derrame_por_idade.show()\n",
        "\n",
        "print(f\"\\nA idade com o maior número de pessoas que sofreram derrame é: {idade_maior_numero_derrame}\")"
      ],
      "metadata": {
        "colab": {
          "base_uri": "https://localhost:8080/"
        },
        "id": "zRZYH2BdFEgq",
        "outputId": "21728a54-fc8f-41d5-aa83-aa88474ed386"
      },
      "execution_count": 14,
      "outputs": [
        {
          "output_type": "stream",
          "name": "stdout",
          "text": [
            "Número de pessoas que sofreram derrame por idade:\n",
            "+----+-------------------------+\n",
            "| age|total_pessoas_com_derrame|\n",
            "+----+-------------------------+\n",
            "|79.0|                     2916|\n",
            "|78.0|                     2279|\n",
            "|80.0|                     1858|\n",
            "|81.0|                     1738|\n",
            "|82.0|                     1427|\n",
            "|77.0|                      994|\n",
            "|74.0|                      987|\n",
            "|63.0|                      942|\n",
            "|76.0|                      892|\n",
            "|70.0|                      881|\n",
            "|66.0|                      848|\n",
            "|75.0|                      809|\n",
            "|67.0|                      801|\n",
            "|57.0|                      775|\n",
            "|73.0|                      759|\n",
            "|65.0|                      716|\n",
            "|72.0|                      709|\n",
            "|68.0|                      688|\n",
            "|69.0|                      677|\n",
            "|71.0|                      667|\n",
            "+----+-------------------------+\n",
            "only showing top 20 rows\n",
            "\n",
            "\n",
            "A idade com o maior número de pessoas que sofreram derrame é: 79.0\n"
          ]
        }
      ]
    },
    {
      "cell_type": "markdown",
      "source": [
        "# Resposta: 79 anos"
      ],
      "metadata": {
        "id": "AoXHFnOPFPji"
      }
    },
    {
      "cell_type": "markdown",
      "source": [
        "# Pergunta 8\n",
        "-  a API de dataframes, determine quantas pessoas sofreram derrames após os 50 anos."
      ],
      "metadata": {
        "id": "4Z-7yDBCFRV7"
      }
    },
    {
      "cell_type": "code",
      "source": [
        "# Filtrar o DataFrame para pessoas que sofreram derrame após os 50 anos\n",
        "derrame_apos_50 = df.filter((col(\"age\") > 50) & (col(\"stroke\") == 1))\n",
        "\n",
        "# Contar o número de pessoas que sofreram derrame após os 50 anos\n",
        "total_pessoas_derrame_apos_50 = derrame_apos_50.count()\n",
        "\n",
        "total_pessoas_derrame_apos_50"
      ],
      "metadata": {
        "colab": {
          "base_uri": "https://localhost:8080/"
        },
        "id": "tfGTmIwgdF_X",
        "outputId": "ce0d0fa7-6e2a-470b-d3e3-7f63fb609486"
      },
      "execution_count": 15,
      "outputs": [
        {
          "output_type": "execute_result",
          "data": {
            "text/plain": [
              "28938"
            ]
          },
          "metadata": {},
          "execution_count": 15
        }
      ]
    },
    {
      "cell_type": "markdown",
      "source": [
        "### Resposta: 28938 pessoas sofreram derrames após os 50 anos"
      ],
      "metadata": {
        "id": "pPbzzjvtdLwM"
      }
    },
    {
      "cell_type": "markdown",
      "source": [
        "# Pergunta 9\n",
        "- Usando spark.sql, determine qual o nível médio de glicose para pessoas que, respectivamente, sofreram e não sofreram derrame.\n"
      ],
      "metadata": {
        "id": "gl0WNJ_8dUDj"
      }
    },
    {
      "cell_type": "code",
      "source": [
        "# Criar uma visualização temporária\n",
        "df.createOrReplaceTempView('pacientes')\n",
        "\n",
        "# Escrever uma consulta SQL para calcular o nível médio de glicose para pessoas que sofreram derrame\n",
        "consulta_glicose_derrame = \"\"\"\n",
        "    SELECT AVG(avg_glucose_level) AS nivel_medio_glicose_derrame\n",
        "    FROM pacientes\n",
        "    WHERE stroke = 1\n",
        "\"\"\"\n",
        "\n",
        "# Executar a consulta SQL para pessoas que sofreram derrame usando spark.sql\n",
        "resultado_glicose_derrame = spark.sql(consulta_glicose_derrame)\n",
        "\n",
        "# Imprimir o resultado\n",
        "print(\"Nível médio de glicose para pessoas que sofreram derrame:\")\n",
        "resultado_glicose_derrame.show()"
      ],
      "metadata": {
        "colab": {
          "base_uri": "https://localhost:8080/"
        },
        "id": "DST4p-J4daCC",
        "outputId": "1fc09f98-18ee-46c5-b583-51f05a79a579"
      },
      "execution_count": 16,
      "outputs": [
        {
          "output_type": "stream",
          "name": "stdout",
          "text": [
            "Nível médio de glicose para pessoas que sofreram derrame:\n",
            "+---------------------------+\n",
            "|nivel_medio_glicose_derrame|\n",
            "+---------------------------+\n",
            "|         119.95307046938272|\n",
            "+---------------------------+\n",
            "\n"
          ]
        }
      ]
    },
    {
      "cell_type": "code",
      "source": [
        "# Escrever uma consulta SQL para calcular o nível médio de glicose para pessoas que não sofreram derrame\n",
        "consulta_glicose_sem_derrame = \"\"\"\n",
        "    SELECT AVG(avg_glucose_level) AS nivel_medio_glicose_sem_derrame\n",
        "    FROM pacientes\n",
        "    WHERE stroke = 0\n",
        "\"\"\"\n",
        "\n",
        "# Executar a consulta SQL para pessoas que não sofreram derrame usando spark.sql\n",
        "resultado_glicose_sem_derrame = spark.sql(consulta_glicose_sem_derrame)\n",
        "\n",
        "print(\"Nível médio de glicose para pessoas que não sofreram derrame:\")\n",
        "resultado_glicose_sem_derrame.show()\n"
      ],
      "metadata": {
        "colab": {
          "base_uri": "https://localhost:8080/"
        },
        "id": "yuZW3WfzdlG9",
        "outputId": "a1cb95bd-9037-477f-e3ea-38f6394b09b6"
      },
      "execution_count": 17,
      "outputs": [
        {
          "output_type": "stream",
          "name": "stdout",
          "text": [
            "Nível médio de glicose para pessoas que não sofreram derrame:\n",
            "+-------------------------------+\n",
            "|nivel_medio_glicose_sem_derrame|\n",
            "+-------------------------------+\n",
            "|             103.60273130214506|\n",
            "+-------------------------------+\n",
            "\n"
          ]
        }
      ]
    },
    {
      "cell_type": "markdown",
      "source": [
        "### Resposta: Respectivamente, 119 e 103."
      ],
      "metadata": {
        "id": "RlTSc3nvdfMB"
      }
    },
    {
      "cell_type": "markdown",
      "source": [
        "# Pergunta 10\n",
        "- Qual é o BMI (IMC = índice de massa corpórea) médio de quem sofreu e não sofreu derrame?"
      ],
      "metadata": {
        "id": "N15IQBQBdrWv"
      }
    },
    {
      "cell_type": "code",
      "source": [
        "# Criar uma visualização temporária\n",
        "df.createOrReplaceTempView('pacientes')\n",
        "\n",
        "# Escrever uma consulta SQL para calcular o IMC médio para pessoas que sofreram derrame\n",
        "consulta_imc_derrame = \"\"\"\n",
        "    SELECT AVG(bmi) AS imc_medio\n",
        "    FROM pacientes\n",
        "    WHERE stroke = 1\n",
        "\"\"\"\n",
        "\n",
        "# Executar a consulta SQL para pessoas que sofreram derrame usando spark.sql\n",
        "resultado_imc_derrame = spark.sql(consulta_imc_derrame)\n",
        "\n",
        "# Imprimir o resultado\n",
        "print(\"O IMC médio para pessoas que sofreram derrame:\")\n",
        "resultado_imc_derrame.show()"
      ],
      "metadata": {
        "colab": {
          "base_uri": "https://localhost:8080/"
        },
        "id": "vFx81ZFVdyLf",
        "outputId": "14f54329-69b6-4ea8-a0be-6e26137427fd"
      },
      "execution_count": 18,
      "outputs": [
        {
          "output_type": "stream",
          "name": "stdout",
          "text": [
            "O IMC médio para pessoas que sofreram derrame:\n",
            "+------------------+\n",
            "|         imc_medio|\n",
            "+------------------+\n",
            "|29.942490629729495|\n",
            "+------------------+\n",
            "\n"
          ]
        }
      ]
    },
    {
      "cell_type": "code",
      "source": [
        "# Criar uma visualização temporária\n",
        "df.createOrReplaceTempView('pacientes')\n",
        "\n",
        "# Escrever uma consulta SQL para calcular o IMC médio para pessoas que não sofreram derrame\n",
        "consulta_imc_sem_derrame = \"\"\"\n",
        "    SELECT AVG(bmi) AS imc_medio\n",
        "    FROM pacientes\n",
        "    WHERE stroke = 0\n",
        "\"\"\"\n",
        "\n",
        "# Executar a consulta SQL para pessoas que sofreram derrame usando spark.sql\n",
        "resultado_imc_sem_derrame = spark.sql(consulta_imc_sem_derrame)\n",
        "\n",
        "# Imprimir o resultado\n",
        "print(\"O IMC médio para pessoas que não sofreram derrame:\")\n",
        "resultado_imc_sem_derrame.show()"
      ],
      "metadata": {
        "colab": {
          "base_uri": "https://localhost:8080/"
        },
        "id": "AX7Wa0S7d5oR",
        "outputId": "aa2bd04c-7a62-47c3-9517-b8dfd1fcb5d1"
      },
      "execution_count": 19,
      "outputs": [
        {
          "output_type": "stream",
          "name": "stdout",
          "text": [
            "O IMC médio para pessoas que não sofreram derrame:\n",
            "+------------------+\n",
            "|         imc_medio|\n",
            "+------------------+\n",
            "|27.989678933253657|\n",
            "+------------------+\n",
            "\n"
          ]
        }
      ]
    },
    {
      "cell_type": "markdown",
      "source": [
        "### Resposta: Respectivamente 29,94 e 27,99"
      ],
      "metadata": {
        "id": "UM8z1kOadw8D"
      }
    },
    {
      "cell_type": "markdown",
      "source": [
        "# Pergunta 11\n",
        "- Crie um modelo de árvore de decisão que prevê a chance de derrame (stroke) a partir das variáveis contínuas/categóricas: idade, BMI, hipertensão, doença do coração, nível médio de glicose. Use o conteúdo da segunda aula interativa para criar e avaliar o modelo.\n",
        "- Qual a acurácia de um modelo construído?"
      ],
      "metadata": {
        "id": "jqnfVyOheADQ"
      }
    },
    {
      "cell_type": "markdown",
      "source": [
        "#### Importando bibliotecas de ML"
      ],
      "metadata": {
        "id": "7kGfyxFGeMDw"
      }
    },
    {
      "cell_type": "code",
      "source": [
        "from pyspark.ml import Pipeline\n",
        "from pyspark.ml.feature import StringIndexer, VectorAssembler\n",
        "from pyspark.ml.classification import DecisionTreeClassifier\n",
        "from pyspark.ml.evaluation import MulticlassClassificationEvaluator"
      ],
      "metadata": {
        "id": "GGw17W4JeO4A"
      },
      "execution_count": 20,
      "outputs": []
    },
    {
      "cell_type": "markdown",
      "source": [
        "#### Tratando as variáveis"
      ],
      "metadata": {
        "id": "J0dNkNWHeR_X"
      }
    },
    {
      "cell_type": "code",
      "source": [
        "# Tratamento de variáveis categóricas\n",
        "indexers = [StringIndexer(inputCol=col, outputCol=col+\"_index\").fit(df) for col in [\"hypertension\", \"heart_disease\"]]\n",
        "pipeline = Pipeline(stages=indexers)\n",
        "df_indexed = pipeline.fit(df).transform(df)"
      ],
      "metadata": {
        "id": "G_LAg1rOeV2b"
      },
      "execution_count": 21,
      "outputs": []
    },
    {
      "cell_type": "markdown",
      "source": [
        "#### Montando as features"
      ],
      "metadata": {
        "id": "5TswHVVmeZ8S"
      }
    },
    {
      "cell_type": "code",
      "source": [
        "# Montar os features\n",
        "assembler = VectorAssembler(\n",
        "    inputCols=[\"age\", \"bmi\", \"avg_glucose_level\", \"hypertension\", \"heart_disease\"],\n",
        "    outputCol=\"features\")\n"
      ],
      "metadata": {
        "id": "tRE-9KKmegpK"
      },
      "execution_count": 22,
      "outputs": []
    },
    {
      "cell_type": "markdown",
      "source": [
        "#### Preparar Dados para Treinamento e teste"
      ],
      "metadata": {
        "id": "bpTyu7stek59"
      }
    },
    {
      "cell_type": "code",
      "source": [
        "# Preparar os dados para treinamento e teste\n",
        "data = assembler.transform(df_indexed)\n",
        "(trainingData, testData) = data.randomSplit([0.7, 0.3])"
      ],
      "metadata": {
        "id": "_P1nbdyIen4-"
      },
      "execution_count": 23,
      "outputs": []
    },
    {
      "cell_type": "markdown",
      "source": [
        "#### Criando modelo de árvore de decisão"
      ],
      "metadata": {
        "id": "u58dB7z_ertZ"
      }
    },
    {
      "cell_type": "code",
      "source": [
        "# Criar o modelo de árvore de decisão\n",
        "dt = DecisionTreeClassifier(labelCol=\"stroke\", featuresCol=\"features\")"
      ],
      "metadata": {
        "id": "WA-zSWvjewmk"
      },
      "execution_count": 24,
      "outputs": []
    },
    {
      "cell_type": "markdown",
      "source": [
        "#### Treinando o modelo"
      ],
      "metadata": {
        "id": "ar80nWGte0AK"
      }
    },
    {
      "cell_type": "code",
      "source": [
        "# Treinar o modelo\n",
        "model = dt.fit(trainingData)"
      ],
      "metadata": {
        "id": "2Aefn_lEe2uy"
      },
      "execution_count": 25,
      "outputs": []
    },
    {
      "cell_type": "markdown",
      "source": [
        "#### Predição com dados de teste"
      ],
      "metadata": {
        "id": "1NHijKGwe6Gh"
      }
    },
    {
      "cell_type": "code",
      "source": [
        "# Prever com os dados de teste\n",
        "predictions = model.transform(testData)"
      ],
      "metadata": {
        "id": "GnEoJsbge-VV"
      },
      "execution_count": 26,
      "outputs": []
    },
    {
      "cell_type": "markdown",
      "source": [
        "#### Avaliando o modelo"
      ],
      "metadata": {
        "id": "BXZRr8d3fB55"
      }
    },
    {
      "cell_type": "code",
      "source": [
        "# Avaliar o modelo\n",
        "evaluator = MulticlassClassificationEvaluator(labelCol=\"stroke\", predictionCol=\"prediction\", metricName=\"accuracy\")\n",
        "accuracy = evaluator.evaluate(predictions)"
      ],
      "metadata": {
        "id": "yBpXAvm_fG4T"
      },
      "execution_count": 27,
      "outputs": []
    },
    {
      "cell_type": "markdown",
      "source": [
        "#### Visualizando a acurácia do modelo"
      ],
      "metadata": {
        "id": "-0IWWi26fKFA"
      }
    },
    {
      "cell_type": "code",
      "source": [
        "print(\"Acurácia do modelo:\", accuracy)"
      ],
      "metadata": {
        "colab": {
          "base_uri": "https://localhost:8080/"
        },
        "id": "0LT2jQxOfOQB",
        "outputId": "d7a13a1e-d480-4e14-87e5-aa196fe00e47"
      },
      "execution_count": 28,
      "outputs": [
        {
          "output_type": "stream",
          "name": "stdout",
          "text": [
            "Acurácia do modelo: 0.6888988361683079\n"
          ]
        }
      ]
    },
    {
      "cell_type": "markdown",
      "source": [
        "### Resposta: Menor que 75%"
      ],
      "metadata": {
        "id": "UPF3pqnafXoz"
      }
    },
    {
      "cell_type": "markdown",
      "source": [
        "# Pergunta 12\n",
        "- Adicione ao modelo as variáveis categóricas: gênero e status de fumante. Use o conteúdo da aula interativa para lidar com as variáveis categóricas. A acurácia (qualidade) do modelo aumentou para:"
      ],
      "metadata": {
        "id": "MnYDGZE3faal"
      }
    },
    {
      "cell_type": "code",
      "source": [
        "# Tratamento de variáveis categóricas\n",
        "indexers = [StringIndexer(inputCol=col, outputCol=col+\"_index\").fit(df) for col in [\"gender\", \"ever_married\", \"work_type\", \"Residence_type\", \"smoking_status\"]]\n",
        "pipeline = Pipeline(stages=indexers)\n",
        "df_indexed = pipeline.fit(df).transform(df)\n",
        "\n",
        "# Montar os features\n",
        "assembler = VectorAssembler(\n",
        "    inputCols=[\"age\", \"hypertension\", \"heart_disease\", \"avg_glucose_level\", \"bmi\", \"gender_index\", \"ever_married_index\", \"work_type_index\", \"Residence_type_index\", \"smoking_status_index\"],\n",
        "    outputCol=\"features\")\n",
        "\n",
        "# Preparar os dados para treinamento e teste\n",
        "data = assembler.transform(df_indexed)\n",
        "(trainingData, testData) = data.randomSplit([0.7, 0.3])\n",
        "\n",
        "# Criar o modelo de árvore de decisão\n",
        "dt = DecisionTreeClassifier(labelCol=\"stroke\", featuresCol=\"features\")\n",
        "\n",
        "# Treinar o modelo\n",
        "model = dt.fit(trainingData)\n",
        "\n",
        "# Prever com os dados de teste\n",
        "predictions = model.transform(testData)\n",
        "\n",
        "# Avaliar o modelo\n",
        "evaluator = MulticlassClassificationEvaluator(labelCol=\"stroke\", predictionCol=\"prediction\", metricName=\"accuracy\")\n",
        "accuracy = evaluator.evaluate(predictions)\n",
        "\n",
        "# Imprimir a acurácia do modelo\n",
        "print(\"Acurácia do modelo após adicionar variáveis categóricas:\", accuracy)\n"
      ],
      "metadata": {
        "colab": {
          "base_uri": "https://localhost:8080/"
        },
        "id": "QXeszYn7fiVj",
        "outputId": "b7880b5a-39b3-49b3-f8bb-35d6785809a1"
      },
      "execution_count": 29,
      "outputs": [
        {
          "output_type": "stream",
          "name": "stdout",
          "text": [
            "Acurácia do modelo após adicionar variáveis categóricas: 0.8363726461843409\n"
          ]
        }
      ]
    },
    {
      "cell_type": "markdown",
      "source": [
        "### Resposta: Acima de 80%"
      ],
      "metadata": {
        "id": "Tv3b7WNpfhiH"
      }
    },
    {
      "cell_type": "markdown",
      "source": [
        "# Pergunta 13\n",
        "- Adicione ao modelo as variáveis categóricas: gênero e status de fumante. Use o conteúdo da aula interativa para lidar com as variáveis categóricas. Qual dessas variáveis é mais importante no modelo de árvore de decisão que você construiu?"
      ],
      "metadata": {
        "id": "_ALrAUrVfr-J"
      }
    },
    {
      "cell_type": "code",
      "source": [
        "# Visualizar a importância das variáveis\n",
        "importances = model.featureImportances\n",
        "feature_names = [\"age\", \"hypertension\", \"heart_disease\", \"avg_glucose_level\", \"bmi\", \"gender\", \"ever_married\", \"work_type\", \"Residence_type\", \"smoking_status\"]\n",
        "for i in range(len(feature_names)):\n",
        "    print(f\"{feature_names[i]}: {importances[i]}\")"
      ],
      "metadata": {
        "colab": {
          "base_uri": "https://localhost:8080/"
        },
        "id": "l7IlwYmofy6A",
        "outputId": "b8c8016d-d69a-4817-f67f-a8afe4586ddb"
      },
      "execution_count": 30,
      "outputs": [
        {
          "output_type": "stream",
          "name": "stdout",
          "text": [
            "age: 0.16777519208996725\n",
            "hypertension: 0.0\n",
            "heart_disease: 0.0\n",
            "avg_glucose_level: 0.010464301741472443\n",
            "bmi: 0.000681310088152407\n",
            "gender: 0.0\n",
            "ever_married: 0.0\n",
            "work_type: 0.0\n",
            "Residence_type: 0.0\n",
            "smoking_status: 0.8210791960804079\n"
          ]
        }
      ]
    },
    {
      "cell_type": "markdown",
      "source": [
        "### Resposta: Status sobre fumo."
      ],
      "metadata": {
        "id": "DPm6phwlf47b"
      }
    },
    {
      "cell_type": "markdown",
      "source": [
        "#Pergunta 14\n",
        "- Adicione ao modelo as variáveis categóricas: gênero e status de fumante.\n",
        "Use o conteúdo da aula interativa para lidar com as variáveis categóricas.\n",
        "Qual a profundidade da árvore de decisão?"
      ],
      "metadata": {
        "id": "A2yxTmoxgH4f"
      }
    },
    {
      "cell_type": "code",
      "source": [
        "# Obter a profundidade da árvore de decisão\n",
        "profundidade_arvore = model.depth\n",
        "\n",
        "# Imprimir a profundidade da árvore de decisão\n",
        "print(\"Profundidade da árvore de decisão:\", profundidade_arvore)"
      ],
      "metadata": {
        "colab": {
          "base_uri": "https://localhost:8080/"
        },
        "id": "7dLm5J4Pf8fA",
        "outputId": "eb9df2bf-997c-43a8-91a8-f5bf0c6948a8"
      },
      "execution_count": 31,
      "outputs": [
        {
          "output_type": "stream",
          "name": "stdout",
          "text": [
            "Profundidade da árvore de decisão: 5\n"
          ]
        }
      ]
    },
    {
      "cell_type": "markdown",
      "source": [
        "### Resposta: entre 2 e 7"
      ],
      "metadata": {
        "id": "12wmEbd_gN6E"
      }
    },
    {
      "cell_type": "markdown",
      "source": [
        "# Pergunta 15\n",
        "- Quantos nodos a árvore de decisão possui?"
      ],
      "metadata": {
        "id": "AWWgcOTbgR7N"
      }
    },
    {
      "cell_type": "code",
      "source": [
        "num_nodos_arvore = model.numNodes\n",
        "\n",
        "# Imprimir o número de nós na árvore de decisão\n",
        "print(\"Número de nós na árvore de decisão:\", num_nodos_arvore)"
      ],
      "metadata": {
        "colab": {
          "base_uri": "https://localhost:8080/"
        },
        "id": "6qEXF6a6gecL",
        "outputId": "8bd1a714-7a75-4665-a068-f29dc2b01044"
      },
      "execution_count": 32,
      "outputs": [
        {
          "output_type": "stream",
          "name": "stdout",
          "text": [
            "Número de nós na árvore de decisão: 21\n"
          ]
        }
      ]
    },
    {
      "cell_type": "markdown",
      "source": [
        "### Resposta: 17 nodos"
      ],
      "metadata": {
        "id": "xtYEnXv2gaLa"
      }
    },
    {
      "cell_type": "code",
      "source": [
        "# Encerrar a sessão Spark\n",
        "spark.stop()"
      ],
      "metadata": {
        "id": "R_dQaY--giTx"
      },
      "execution_count": 33,
      "outputs": []
    }
  ]
}